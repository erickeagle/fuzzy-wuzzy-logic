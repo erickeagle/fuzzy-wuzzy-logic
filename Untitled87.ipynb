{
 "cells": [
  {
   "cell_type": "markdown",
   "metadata": {},
   "source": [
    "# Fuzzy Wuzzy at a glance\n",
    "\n",
    "Fuzzy Wuzzy is a sting matching algorithm which uses Levenshtein distance, for calculating the difference between the sequences of the two string. "
   ]
  },
  {
   "cell_type": "markdown",
   "metadata": {},
   "source": [
    "### Requirements\n",
    "The basic requirements for using fuzzy-wuzzy packages are listed below\n",
    "- **Python 2.7 or higher version**\n",
    "- **difflib** provides many classes and functions for comparing sequences, directories and files including HTML and context and unified diffs\n",
    "- **python-Levenshtein** is optional, but can provide a 4-10x speedup in String Matching"
   ]
  },
  {
   "cell_type": "markdown",
   "metadata": {},
   "source": [
    "### Testing is performed on the basis of\n",
    "- **pycodestyle** is a tool to check your Python code against some of the style conventions \n",
    "- **hypothesis test** is statistical method, used to make statistical decisions usning some raw data\n",
    "- **pytest** is a testing framework which allow us to write test codes"
   ]
  },
  {
   "cell_type": "markdown",
   "metadata": {},
   "source": [
    "### Installtion\n",
    "- **using pip**\n",
    "   <br>pip install fuzzywuzzy\n",
    "   <br>pip install python-Levenshtein\n",
    "   \n",
    "- **or directly by**\n",
    "   <br> pip install fuzzywuzzy[speedup]"
   ]
  },
  {
   "cell_type": "markdown",
   "metadata": {},
   "source": [
    "## How to use Fuzzy Wuzzy Package"
   ]
  },
  {
   "cell_type": "code",
   "execution_count": 2,
   "metadata": {},
   "outputs": [],
   "source": [
    "from fuzzywuzzy import fuzz as f"
   ]
  },
  {
   "cell_type": "markdown",
   "metadata": {},
   "source": [
    "### Simple Ratio \n",
    "It gives the percent similarity between the two strings as the Levenshtein distance give.\n"
   ]
  },
  {
   "cell_type": "code",
   "execution_count": 4,
   "metadata": {},
   "outputs": [
    {
     "name": "stdout",
     "output_type": "stream",
     "text": [
      "86\n",
      "100\n",
      "42\n"
     ]
    }
   ],
   "source": [
    "print(f.ratio(\"Tech Boomerang\",\"tech boomerang\"))\n",
    "print(f.ratio(\"tech boomerang\",\"tech boomerang\"))\n",
    "print(f.ratio(\"tech boomerang!\",\"tech\"))"
   ]
  },
  {
   "cell_type": "markdown",
   "metadata": {},
   "source": [
    "But it gives very less percent similarity, when it comes to match substring of x length with the string of y length (x<y). Then the other fuction of fuzzy wuzzy can be used."
   ]
  },
  {
   "cell_type": "markdown",
   "metadata": {},
   "source": [
    "### Partial ratio\n",
    "It is very useful for matching the subtring with another string."
   ]
  },
  {
   "cell_type": "code",
   "execution_count": 5,
   "metadata": {
    "scrolled": true
   },
   "outputs": [
    {
     "name": "stdout",
     "output_type": "stream",
     "text": [
      "86\n",
      "100\n",
      "64\n"
     ]
    }
   ],
   "source": [
    "print(f.partial_ratio(\"Tech Boomerang!\",\"tech boomerang\"))\n",
    "print(f.partial_ratio(\"Tech Boomerang!\".lower(),\"tech boomerang\".lower()))\n",
    "print(f.partial_ratio(\"tech boomerang\".lower(),\"boomerang tech\".lower()))"
   ]
  },
  {
   "cell_type": "markdown",
   "metadata": {},
   "source": [
    "But the method of Partial ratio is also failed, when the arrangemet of data is changed. Then to solve this problem we will go for another function of fuzzy wuzzy, which is termed as Token Sort Ratio."
   ]
  },
  {
   "cell_type": "markdown",
   "metadata": {},
   "source": [
    "### Token Sort Ratio\n",
    "This function is used where parial ratio fails, but it only works when there are equal number of words in both the strings. And it gives less percent similarity when we use this function for matching substring of length x with string of length y where x<y. To overcome this failure,, there is another function named token sort ratio."
   ]
  },
  {
   "cell_type": "code",
   "execution_count": 20,
   "metadata": {},
   "outputs": [
    {
     "name": "stdout",
     "output_type": "stream",
     "text": [
      "100\n",
      "74\n"
     ]
    }
   ],
   "source": [
    "print(f.token_sort_ratio(\"tech boomerang\",\"boomerang tech\"))\n",
    "print(f.token_sort_ratio(\"tech boomerang\",\"boomerang tech boomerang !\"))"
   ]
  },
  {
   "cell_type": "markdown",
   "metadata": {},
   "source": [
    "### Token Set Ratio\n",
    "This function gives us more flexibility than token sort function because it performs set operation, intersection for finding out the common words then applying the fuzzy ratio to find out the comparision."
   ]
  },
  {
   "cell_type": "code",
   "execution_count": 6,
   "metadata": {},
   "outputs": [
    {
     "name": "stdout",
     "output_type": "stream",
     "text": [
      "100\n"
     ]
    }
   ],
   "source": [
    "print(f.token_set_ratio(\"tech boomerang\",\"boomerang tech boomerang !\"))"
   ]
  },
  {
   "cell_type": "markdown",
   "metadata": {},
   "source": [
    "\n",
    "### Process\n",
    "Process is one of the powerful function of fuzzy wuzzy. It is used to perform string matching on the vector of the strings or can get string of highest percent similarity among the vector of the string. "
   ]
  },
  {
   "cell_type": "code",
   "execution_count": 8,
   "metadata": {},
   "outputs": [
    {
     "name": "stdout",
     "output_type": "stream",
     "text": [
      "[('tech boomerang', 100), ('boomerang tech!', 95), ('boomerang tech boomerang!', 90), ('tech boomerang is a tech related things', 90)]\n",
      "('tech boomerang', 100)\n"
     ]
    }
   ],
   "source": [
    "from fuzzywuzzy import process as p\n",
    "key=[\"tech boomerang\",\"boomerang tech boomerang!\",\"tech boomerang is a tech related things\",\"boomerang tech!\"]\n",
    "print(p.extract(\"tech boomerang\",key))\n",
    "print(p.extractOne(\"tech boomerang\",key))"
   ]
  },
  {
   "cell_type": "markdown",
   "metadata": {},
   "source": [
    "And Also we can limit the number of strings in the decresing order of percent similar, can be extracted from the vector of string."
   ]
  },
  {
   "cell_type": "code",
   "execution_count": 9,
   "metadata": {},
   "outputs": [
    {
     "name": "stdout",
     "output_type": "stream",
     "text": [
      "[('tech boomerang', 100), ('boomerang tech!', 95), ('boomerang tech boomerang!', 90)]\n"
     ]
    }
   ],
   "source": [
    "print(p.extract(\"tech boomerang\",key,limit=3))"
   ]
  },
  {
   "cell_type": "code",
   "execution_count": null,
   "metadata": {},
   "outputs": [],
   "source": []
  }
 ],
 "metadata": {
  "kernelspec": {
   "display_name": "Python 3",
   "language": "python",
   "name": "python3"
  },
  "language_info": {
   "codemirror_mode": {
    "name": "ipython",
    "version": 3
   },
   "file_extension": ".py",
   "mimetype": "text/x-python",
   "name": "python",
   "nbconvert_exporter": "python",
   "pygments_lexer": "ipython3",
   "version": "3.7.6"
  }
 },
 "nbformat": 4,
 "nbformat_minor": 4
}
